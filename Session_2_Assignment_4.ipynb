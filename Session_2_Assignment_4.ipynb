{
 "cells": [
  {
   "cell_type": "code",
   "execution_count": 32,
   "metadata": {},
   "outputs": [
    {
     "name": "stdout",
     "output_type": "stream",
     "text": [
      "Output String = \n",
      "\n",
      "WE, THE PEOPLE OF INDIA,\n",
      " having solemnly resolved to constitute India into a SOVEREIGN,\n",
      " SOCIALIST, SECULAR,DEMOCRATIC REPUBLIC \n",
      "and to secure to all its citizens,\n"
     ]
    }
   ],
   "source": [
    "# Session 2 - Assignment 4\n",
    "# Write a Python Program to print the given string in the format specified in the sample\n",
    "# output.\n",
    "# WE, THE PEOPLE OF INDIA, having solemnly resolved to constitute India into a\n",
    "# SOVEREIGN, SOCIALIST, SECULAR, DEMOCRATIC REPUBLIC and to secure to all\n",
    "# its citizens\n",
    "\n",
    "# Sample Output:\n",
    "# WE, THE PEOPLE OF INDIA,\n",
    "# having solemnly resolved to constitute India into a SOVEREIGN, !\n",
    "# SOCIALIST, SECULAR, DEMOCRATIC REPUBLIC\n",
    "# and to secure to all its citizens\n",
    "\n",
    "str = \"WE, THE PEOPLE OF INDIA, having solemnly resolved to constitute India into a SOVEREIGN, SOCIALIST, SECULAR,DEMOCRATIC REPUBLIC and to secure to all its citizens\"\n",
    "\n",
    "str1 = str.split(\",\")\n",
    "print(\"Output String = \\n\")\n",
    "l= len(str1)\n",
    "\n",
    "i = 0\n",
    "while i <= l - 1:\n",
    "    str1[i] = str1[i] + \",\"\n",
    "    if (str1[i].isupper()):\n",
    "        print(str1[i] , end = \"\")\n",
    "    else:\n",
    "        if (i == 2):\n",
    "            print(\"\\n\", end=\"\")\n",
    "            \n",
    "# if this is the last string, then split it again\n",
    "# based on the string and\n",
    "        if (i== 5):\n",
    "            str2 = str1[i].split(\"and\")\n",
    "            str2[1] = \"and\" + str2[1]\n",
    "            print(str2[0])\n",
    "            print(str2[1])\n",
    "        else:\n",
    "            print(str1[i])\n",
    "    i = i + 1\n",
    "\n"
   ]
  },
  {
   "cell_type": "code",
   "execution_count": null,
   "metadata": {},
   "outputs": [],
   "source": []
  }
 ],
 "metadata": {
  "kernelspec": {
   "display_name": "Python 3",
   "language": "python",
   "name": "python3"
  },
  "language_info": {
   "codemirror_mode": {
    "name": "ipython",
    "version": 3
   },
   "file_extension": ".py",
   "mimetype": "text/x-python",
   "name": "python",
   "nbconvert_exporter": "python",
   "pygments_lexer": "ipython3",
   "version": "3.6.4"
  }
 },
 "nbformat": 4,
 "nbformat_minor": 2
}
